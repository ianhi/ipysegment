{
 "cells": [
  {
   "cell_type": "markdown",
   "metadata": {},
   "source": [
    "# Introduction"
   ]
  },
  {
   "cell_type": "code",
   "execution_count": 20,
   "metadata": {},
   "outputs": [],
   "source": [
    "import ipysegment\n",
    "import numpy as np\n",
    "arr = np.zeros((10,10))\n",
    "x = np.linspace(-1, 1, 1000)\n",
    "y = np.linspace(-1, 1, 1000)\n",
    "\n",
    "x_grid, y_grid = np.meshgrid(x, y)\n",
    "\n",
    "blue_channel = np.array(np.sin(x_grid**2 + y_grid**2) * 255, dtype=np.int32)\n",
    "red_channel = np.zeros_like(blue_channel) + 200\n",
    "green_channel = np.zeros_like(blue_channel) + 50\n",
    "\n",
    "image_data = np.stack((red_channel, blue_channel, green_channel), axis=2)\n"
   ]
  },
  {
   "cell_type": "code",
   "execution_count": 21,
   "metadata": {},
   "outputs": [
    {
     "data": {
      "application/vnd.jupyter.widget-view+json": {
       "model_id": "8b010773ae8b4a659f028c9c0b4af19d",
       "version_major": 2,
       "version_minor": 0
      },
      "text/plain": [
       "segmenter(layout=Layout(height='500px', width='500px'))"
      ]
     },
     "metadata": {},
     "output_type": "display_data"
    }
   ],
   "source": [
    "\n",
    "w = ipysegment.segmenter()\n",
    "w.layout.width = '500px'\n",
    "w.layout.height = '500px'\n",
    "# w.height = 50\n",
    "# w.set_image(arr)\n",
    "w.set_image(image_data[:500,:])\n",
    "w"
   ]
  },
  {
   "cell_type": "code",
   "execution_count": 10,
   "metadata": {},
   "outputs": [
    {
     "data": {
      "application/vnd.jupyter.widget-view+json": {
       "model_id": "67572a73c68140c78941a84db80cf570",
       "version_major": 2,
       "version_minor": 0
      },
      "text/plain": [
       "segmenter(layout=Layout(height='500px', width='500px'))"
      ]
     },
     "metadata": {},
     "output_type": "display_data"
    }
   ],
   "source": [
    "# w\n",
    "w"
   ]
  },
  {
   "cell_type": "code",
   "execution_count": null,
   "metadata": {},
   "outputs": [],
   "source": []
  },
  {
   "cell_type": "code",
   "execution_count": 11,
   "metadata": {},
   "outputs": [],
   "source": [
    "w.beep()"
   ]
  },
  {
   "cell_type": "code",
   "execution_count": null,
   "metadata": {},
   "outputs": [],
   "source": []
  }
 ],
 "metadata": {
  "kernelspec": {
   "display_name": "Python 3",
   "language": "python",
   "name": "python3"
  },
  "language_info": {
   "codemirror_mode": {
    "name": "ipython",
    "version": 3
   },
   "file_extension": ".py",
   "mimetype": "text/x-python",
   "name": "python",
   "nbconvert_exporter": "python",
   "pygments_lexer": "ipython3",
   "version": "3.8.3"
  },
  "widgets": {
   "application/vnd.jupyter.widget-state+json": {
    "state": {
     "2a033ef5770c4145adfda4e77ffc71b0": {
      "model_module": "@jupyter-widgets/base",
      "model_module_version": "1.2.0",
      "model_name": "LayoutModel",
      "state": {
       "height": "500px",
       "width": "500px"
      }
     },
     "3a0c8131f81b49f99eb0e67494190fb1": {
      "model_module": "ipysegment",
      "model_module_version": "^0.1.0",
      "model_name": "segmentModel",
      "state": {
       "_model_module_version": "^0.1.0",
       "_view_module_version": "^0.1.0",
       "classColor": "red",
       "height": 700,
       "layout": "IPY_MODEL_9930ad48286b4be981734f38d3a293c4",
       "width": 700
      }
     },
     "4bfefdd3dc24434f8a6677bad20dcbae": {
      "model_module": "ipysegment",
      "model_module_version": "^0.1.0",
      "model_name": "segmentModel",
      "state": {
       "_model_module_version": "^0.1.0",
       "_view_module_version": "^0.1.0",
       "classColor": "red",
       "height": 700,
       "layout": "IPY_MODEL_fbc9036205324c3f9873d1b199fbbb8d",
       "width": 700
      }
     },
     "5837d4c04c294ada83924955ce860a57": {
      "model_module": "@jupyter-widgets/base",
      "model_module_version": "1.2.0",
      "model_name": "LayoutModel",
      "state": {
       "height": "500px",
       "width": "500px"
      }
     },
     "67572a73c68140c78941a84db80cf570": {
      "model_module": "ipysegment",
      "model_module_version": "^0.1.0",
      "model_name": "segmentModel",
      "state": {
       "_model_module_version": "^0.1.0",
       "_view_module_version": "^0.1.0",
       "classColor": "red",
       "height": 700,
       "layout": "IPY_MODEL_2a033ef5770c4145adfda4e77ffc71b0",
       "width": 700
      }
     },
     "770900620c814f3c98d12a7c97588014": {
      "model_module": "ipysegment",
      "model_module_version": "^0.1.0",
      "model_name": "segmentModel",
      "state": {
       "_model_module_version": "^0.1.0",
       "_view_module_version": "^0.1.0",
       "classColor": "red",
       "height": 700,
       "layout": "IPY_MODEL_a8b74480ddfb4a00b955251b83a926f1",
       "width": 700
      }
     },
     "7f5e912254044d3db82f3e5a42bb04c7": {
      "model_module": "ipysegment",
      "model_module_version": "^0.1.0",
      "model_name": "segmentModel",
      "state": {
       "_model_module_version": "^0.1.0",
       "_view_module_version": "^0.1.0",
       "classColor": "red",
       "height": 700,
       "layout": "IPY_MODEL_804481dd6c8448ad84ce7ad891855114",
       "width": 700
      }
     },
     "804481dd6c8448ad84ce7ad891855114": {
      "model_module": "@jupyter-widgets/base",
      "model_module_version": "1.2.0",
      "model_name": "LayoutModel",
      "state": {
       "height": "500px",
       "width": "500px"
      }
     },
     "8b010773ae8b4a659f028c9c0b4af19d": {
      "model_module": "ipysegment",
      "model_module_version": "^0.1.0",
      "model_name": "segmentModel",
      "state": {
       "_model_module_version": "^0.1.0",
       "_view_module_version": "^0.1.0",
       "classColor": "red",
       "height": 700,
       "layout": "IPY_MODEL_b711b4a5bb5b45d6a86492630879eada",
       "width": 700
      }
     },
     "9930ad48286b4be981734f38d3a293c4": {
      "model_module": "@jupyter-widgets/base",
      "model_module_version": "1.2.0",
      "model_name": "LayoutModel",
      "state": {
       "height": "500px",
       "width": "500px"
      }
     },
     "a8b74480ddfb4a00b955251b83a926f1": {
      "model_module": "@jupyter-widgets/base",
      "model_module_version": "1.2.0",
      "model_name": "LayoutModel",
      "state": {
       "height": "500px",
       "width": "500px"
      }
     },
     "b4d6a90116ee421097cecdeeb77f91b2": {
      "model_module": "@jupyter-widgets/base",
      "model_module_version": "1.2.0",
      "model_name": "LayoutModel",
      "state": {
       "height": "500px",
       "width": "500px"
      }
     },
     "b711b4a5bb5b45d6a86492630879eada": {
      "model_module": "@jupyter-widgets/base",
      "model_module_version": "1.2.0",
      "model_name": "LayoutModel",
      "state": {
       "height": "500px",
       "width": "500px"
      }
     },
     "ce4eab5b878c4fc99d2ac3fa9e08ad76": {
      "model_module": "ipysegment",
      "model_module_version": "^0.1.0",
      "model_name": "segmentModel",
      "state": {
       "_model_module_version": "^0.1.0",
       "_view_module_version": "^0.1.0",
       "classColor": "red",
       "height": 700,
       "layout": "IPY_MODEL_b4d6a90116ee421097cecdeeb77f91b2",
       "width": 700
      }
     },
     "d86d18d596e045d6bb103d85e10e40d9": {
      "model_module": "ipysegment",
      "model_module_version": "^0.1.0",
      "model_name": "segmentModel",
      "state": {
       "_model_module_version": "^0.1.0",
       "_view_module_version": "^0.1.0",
       "classColor": "red",
       "height": 700,
       "layout": "IPY_MODEL_5837d4c04c294ada83924955ce860a57",
       "width": 700
      }
     },
     "fbc9036205324c3f9873d1b199fbbb8d": {
      "model_module": "@jupyter-widgets/base",
      "model_module_version": "1.2.0",
      "model_name": "LayoutModel",
      "state": {
       "height": "500px",
       "width": "500px"
      }
     }
    },
    "version_major": 2,
    "version_minor": 0
   }
  }
 },
 "nbformat": 4,
 "nbformat_minor": 4
}
